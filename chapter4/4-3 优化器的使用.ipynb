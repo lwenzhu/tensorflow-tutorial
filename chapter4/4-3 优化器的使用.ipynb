{
 "cells": [
  {
   "cell_type": "code",
   "execution_count": 1,
   "metadata": {
    "collapsed": true
   },
   "outputs": [],
   "source": [
    "import tensorflow as tf\n",
    "import numpy as np\n",
    "from tensorflow.examples.tutorials.mnist import input_data"
   ]
  },
  {
   "cell_type": "code",
   "execution_count": null,
   "metadata": {
    "collapsed": true
   },
   "outputs": [],
   "source": [
    "#载入数据集\n",
    "mnist=input_data.read_data_sets('MNIST_data',one_hot=True)\n",
    "\n",
    "#设定批次大小\n",
    "batch_size=128\n",
    "#计算一共有多少批次\n",
    "n_batch=mnist.train.num_examples//batch_size\n",
    "\n",
    "#定义placeholder\n",
    "x=tf.placeholder(tf.float32,[None,784])\n",
    "y=tf.placeholder(tf.float32,[None,10])\n",
    "\n",
    "keep_prob=tf.placeholder(tf.float32)\n",
    "#创建一个神经网络\n",
    "w=tf.Variable(tf.truncated_normal([784,2000],stddev=0.1))\n",
    "b=tf.Variable(tf.zeros([2000])+0.1)\n",
    "h1=tf.nn.tanh(tf.matmul(x,w)+b)\n",
    "h1_drop=tf.nn.dropout(h1,keep_prob)\n",
    "\n",
    "w1=tf.Variable(tf.truncated_normal([2000,2000],stddev=0.1))\n",
    "b1=tf.Variable(tf.zeros([2000])+0.1)\n",
    "h2=tf.nn.tanh(tf.matmul(h1,w1)+b1)\n",
    "h2_drop=tf.nn.dropout(h2,keep_prob)\n",
    "\n",
    "w2=tf.Variable(tf.truncated_normal([2000,1000],stddev=0.1))\n",
    "b2=tf.Variable(tf.zeros([1000])+0.1)\n",
    "h3=tf.nn.tanh(tf.matmul(h2,w2)+b2)\n",
    "h3_drop=tf.nn.dropout(h3,keep_prob)\n",
    "\n",
    "w3=tf.Variable(tf.truncated_normal([1000,10],stddev=0.1))\n",
    "b3=tf.Variable(tf.zeros([10])+0.1)\n",
    "\n",
    "prediction=tf.nn.softmax(tf.matmul(h3_drop,w3)+b3)\n",
    "#定义loss函数\n",
    "loss=tf.reduce_mean(tf.nn.softmax_cross_entropy_with_logits(labels=y,logits=prediction))\n",
    "\n",
    "\n",
    "#train_step=tf.train.GradientDescentOptimizer(0.2).minimize(loss)\n",
    "#train_step=tf.train.MomentumOptimizer(0.2,momentum=0.2).minimize(loss)\n",
    "train_step=tf.train.AdamOptimizer(1e-2).minimize(loss)#Adam一般用比较小的学习率，但收敛比SGD快\n",
    "\n",
    "#初始化\n",
    "init=tf.global_variables_initializer()\n",
    "\n",
    "#定义准确率\n",
    "#argmax找ont-hot编码里最大的那个数的索引，两个比较，相等就是预测对了，反之\n",
    "correct_prediction=tf.equal(tf.argmax(y,1),tf.argmax(prediction,1))\n",
    "#求准确率\n",
    "accuracy=tf.reduce_mean(tf.cast(correct_prediction,tf.float32))\n",
    "\n",
    "with tf.Session() as sess:\n",
    "    sess.run(init)\n",
    "    for epoch in range(100):\n",
    "        for batch in range(n_batch):\n",
    "            batch_xs,batch_ys=mnist.train.next_batch(batch_size)\n",
    "            sess.run(train_step,feed_dict={x:batch_xs,y:batch_ys,keep_prob:0.7})\n",
    "        \n",
    "        test_acc=sess.run(accuracy,feed_dict={x:mnist.test.images,y:mnist.test.labels,keep_prob:0.7})\n",
    "        \n",
    "        train_acc=sess.run(accuracy,feed_dict={x:mnist.train.images,y:mnist.train.labels,keep_prob:0.7})\n",
    "        \n",
    "        print('iter'+str(epoch)+',testing accuracy:'+str(test_acc)+' training acc:'+str(train_acc))"
   ]
  }
 ],
 "metadata": {
  "kernelspec": {
   "display_name": "Python 3",
   "language": "python",
   "name": "python3"
  },
  "language_info": {
   "codemirror_mode": {
    "name": "ipython",
    "version": 3
   },
   "file_extension": ".py",
   "mimetype": "text/x-python",
   "name": "python",
   "nbconvert_exporter": "python",
   "pygments_lexer": "ipython3",
   "version": "3.6.3"
  }
 },
 "nbformat": 4,
 "nbformat_minor": 2
}
