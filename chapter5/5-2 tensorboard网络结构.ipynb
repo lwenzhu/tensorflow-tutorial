{
 "cells": [
  {
   "cell_type": "code",
   "execution_count": 1,
   "metadata": {
    "collapsed": true
   },
   "outputs": [],
   "source": [
    "import tensorflow as tf\n",
    "import numpy as np\n",
    "from tensorflow.examples.tutorials.mnist import input_data"
   ]
  },
  {
   "cell_type": "code",
   "execution_count": 2,
   "metadata": {},
   "outputs": [
    {
     "name": "stdout",
     "output_type": "stream",
     "text": [
      "WARNING:tensorflow:From <ipython-input-2-ddb749bd00e3>:2: read_data_sets (from tensorflow.contrib.learn.python.learn.datasets.mnist) is deprecated and will be removed in a future version.\n",
      "Instructions for updating:\n",
      "Please use alternatives such as official/mnist/dataset.py from tensorflow/models.\n",
      "WARNING:tensorflow:From E:\\conda\\lib\\site-packages\\tensorflow\\contrib\\learn\\python\\learn\\datasets\\mnist.py:260: maybe_download (from tensorflow.contrib.learn.python.learn.datasets.base) is deprecated and will be removed in a future version.\n",
      "Instructions for updating:\n",
      "Please write your own downloading logic.\n",
      "WARNING:tensorflow:From E:\\conda\\lib\\site-packages\\tensorflow\\contrib\\learn\\python\\learn\\datasets\\mnist.py:262: extract_images (from tensorflow.contrib.learn.python.learn.datasets.mnist) is deprecated and will be removed in a future version.\n",
      "Instructions for updating:\n",
      "Please use tf.data to implement this functionality.\n",
      "Extracting MNIST_data\\train-images-idx3-ubyte.gz\n",
      "WARNING:tensorflow:From E:\\conda\\lib\\site-packages\\tensorflow\\contrib\\learn\\python\\learn\\datasets\\mnist.py:267: extract_labels (from tensorflow.contrib.learn.python.learn.datasets.mnist) is deprecated and will be removed in a future version.\n",
      "Instructions for updating:\n",
      "Please use tf.data to implement this functionality.\n",
      "Extracting MNIST_data\\train-labels-idx1-ubyte.gz\n",
      "WARNING:tensorflow:From E:\\conda\\lib\\site-packages\\tensorflow\\contrib\\learn\\python\\learn\\datasets\\mnist.py:110: dense_to_one_hot (from tensorflow.contrib.learn.python.learn.datasets.mnist) is deprecated and will be removed in a future version.\n",
      "Instructions for updating:\n",
      "Please use tf.one_hot on tensors.\n",
      "Extracting MNIST_data\\t10k-images-idx3-ubyte.gz\n",
      "Extracting MNIST_data\\t10k-labels-idx1-ubyte.gz\n",
      "WARNING:tensorflow:From E:\\conda\\lib\\site-packages\\tensorflow\\contrib\\learn\\python\\learn\\datasets\\mnist.py:290: DataSet.__init__ (from tensorflow.contrib.learn.python.learn.datasets.mnist) is deprecated and will be removed in a future version.\n",
      "Instructions for updating:\n",
      "Please use alternatives such as official/mnist/dataset.py from tensorflow/models.\n",
      "iter0,testing accuracy:0.7943\n",
      "iter1,testing accuracy:0.8593\n",
      "iter2,testing accuracy:0.8754\n",
      "iter3,testing accuracy:0.8828\n",
      "iter4,testing accuracy:0.8871\n"
     ]
    }
   ],
   "source": [
    "#载入数据集\n",
    "mnist=input_data.read_data_sets('MNIST_data',one_hot=True)\n",
    "\n",
    "#设定批次大小\n",
    "batch_size=128\n",
    "#计算一共有多少批次\n",
    "n_batch=mnist.train.num_examples//batch_size\n",
    "\n",
    "\n",
    "#定义一个命名空间,x,y要缩进\n",
    "with tf.name_scope('input'):\n",
    "    #定义placeholder\n",
    "    x=tf.placeholder(tf.float32,[None,784],name='x_input')\n",
    "    y=tf.placeholder(tf.float32,[None,10],name='y_input')\n",
    "\n",
    "#创建一个神经网络\n",
    "with tf.name_scope('layer'):\n",
    "    with tf.name_scope('weight'):\n",
    "        w=tf.Variable(tf.zeros([784,10]),name='w')\n",
    "    with tf.name_scope('bias'):\n",
    "        b=tf.Variable(tf.zeros([10])+0.1,name='b')\n",
    "    with tf.name_scope('w_plus_b'):\n",
    "        w_plus_b=tf.matmul(x,w)+b\n",
    "        \n",
    "    with tf.name_scope('softmax'):\n",
    "        prediction=tf.nn.softmax(w_plus_b)\n",
    "\n",
    "with tf.name_scope('loss'):    \n",
    "    loss=tf.reduce_mean(tf.square(y-prediction))\n",
    "\n",
    "with tf.name_scope('train'):\n",
    "    train_step=tf.train.GradientDescentOptimizer(0.2).minimize(loss)\n",
    "\n",
    "#初始化\n",
    "init=tf.global_variables_initializer()\n",
    "with tf.name_scope('accuracy'):\n",
    "    \n",
    "    #定义准确率\n",
    "    #argmax找ont-hot编码里最大的那个数的索引，两个比较，相等就是预测对了，反之\n",
    "    correct_prediction=tf.equal(tf.argmax(y,1),tf.argmax(prediction,1))\n",
    "    #求准确率\n",
    "    accuracy=tf.reduce_mean(tf.cast(correct_prediction,tf.float32))\n",
    "\n",
    "with tf.Session() as sess:\n",
    "    sess.run(init)\n",
    "    \n",
    "    #注意writer的操作呀\n",
    "    writer=tf.summary.FileWriter('logs',sess.graph)\n",
    "    for epoch in range(5):\n",
    "        for batch in range(n_batch):\n",
    "            batch_xs,batch_ys=mnist.train.next_batch(batch_size)\n",
    "            sess.run(train_step,feed_dict={x:batch_xs,y:batch_ys})\n",
    "        \n",
    "        acc=sess.run(accuracy,feed_dict={x:mnist.test.images,y:mnist.test.labels})\n",
    "        \n",
    "        print('iter'+str(epoch)+',testing accuracy:'+str(acc))"
   ]
  },
  {
   "cell_type": "markdown",
   "metadata": {},
   "source": [
    "在cmd中输入以下指令\n",
    "tensorboard --logdir=C:\\Users\\liuwenzhu\\Desktop\\论文-修改\\tenserflow-lscj\\logs\n",
    "注意要在logs所在的盘里进行操作，后面的路径为logs文件的路径\n",
    "好像中文路径会出错？？？"
   ]
  }
 ],
 "metadata": {
  "kernelspec": {
   "display_name": "Python 3",
   "language": "python",
   "name": "python3"
  },
  "language_info": {
   "codemirror_mode": {
    "name": "ipython",
    "version": 3
   },
   "file_extension": ".py",
   "mimetype": "text/x-python",
   "name": "python",
   "nbconvert_exporter": "python",
   "pygments_lexer": "ipython3",
   "version": "3.6.3"
  }
 },
 "nbformat": 4,
 "nbformat_minor": 2
}
