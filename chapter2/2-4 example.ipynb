{
 "cells": [
  {
   "cell_type": "code",
   "execution_count": 2,
   "metadata": {
    "collapsed": true
   },
   "outputs": [],
   "source": [
    "import tensorflow as tf\n",
    "import numpy as np"
   ]
  },
  {
   "cell_type": "code",
   "execution_count": 7,
   "metadata": {},
   "outputs": [
    {
     "name": "stdout",
     "output_type": "stream",
     "text": [
      "1 [0.45844051, 0.050577529] 0.0137834\n",
      "21 [0.29429477, 0.083825253] 0.00334601\n",
      "41 [0.2144457, 0.13156945] 0.00116092\n",
      "61 [0.16741209, 0.15969226] 0.000402792\n",
      "81 [0.13970782, 0.17625749] 0.000139752\n",
      "101 [0.12338914, 0.18601492] 4.84879e-05\n",
      "121 [0.11377694, 0.19176236] 1.68232e-05\n",
      "141 [0.10811504, 0.19514777] 5.83695e-06\n",
      "161 [0.10478001, 0.19714189] 2.02518e-06\n",
      "181 [0.10281558, 0.19831648] 7.02651e-07\n",
      "201 [0.10165846, 0.19900836] 2.43788e-07\n"
     ]
    }
   ],
   "source": [
    "#numpy生成100个随机点\n",
    "x_data=np.random.rand(100)\n",
    "y_data=x_data*0.1+0.2\n",
    "\n",
    "#构建一个线性模型\n",
    "b=tf.Variable(0.1)\n",
    "k=tf.Variable(0.5)\n",
    "y=k*x_data+b\n",
    "\n",
    "#定义一个二次代价函数\n",
    "loss=tf.reduce_mean(tf.square(y_data-y))\n",
    "\n",
    "#定义一个梯度下降法进行训练的优化器。lr=0.2\n",
    "optimizer=tf.train.GradientDescentOptimizer(0.2)\n",
    "#最小化代价函数\n",
    "train=optimizer.minimize(loss)\n",
    "\n",
    "init=tf.global_variables_initializer()\n",
    "with tf.Session() as sess:\n",
    "    sess.run(init)\n",
    "    for step in range(201):\n",
    "        sess.run(train)\n",
    "        if step%20==0:\n",
    "            print(step+1,sess.run([k,b]),sess.run(loss))"
   ]
  }
 ],
 "metadata": {
  "kernelspec": {
   "display_name": "Python 3",
   "language": "python",
   "name": "python3"
  },
  "language_info": {
   "codemirror_mode": {
    "name": "ipython",
    "version": 3
   },
   "file_extension": ".py",
   "mimetype": "text/x-python",
   "name": "python",
   "nbconvert_exporter": "python",
   "pygments_lexer": "ipython3",
   "version": "3.6.3"
  }
 },
 "nbformat": 4,
 "nbformat_minor": 2
}
