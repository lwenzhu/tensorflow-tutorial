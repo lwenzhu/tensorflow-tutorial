{
 "cells": [
  {
   "cell_type": "code",
   "execution_count": 2,
   "metadata": {
    "collapsed": true
   },
   "outputs": [],
   "source": [
    "import tensorflow as tf\n",
    "import numpy as np\n",
    "from tensorflow.examples.tutorials.mnist import input_data"
   ]
  },
  {
   "cell_type": "code",
   "execution_count": 47,
   "metadata": {},
   "outputs": [
    {
     "name": "stdout",
     "output_type": "stream",
     "text": [
      "Extracting MNIST_data\\train-images-idx3-ubyte.gz\n",
      "Extracting MNIST_data\\train-labels-idx1-ubyte.gz\n",
      "Extracting MNIST_data\\t10k-images-idx3-ubyte.gz\n",
      "Extracting MNIST_data\\t10k-labels-idx1-ubyte.gz\n",
      "iter0,testing accuracy:0.8685\n",
      "iter1,testing accuracy:0.9014\n",
      "iter2,testing accuracy:0.9144\n",
      "iter3,testing accuracy:0.9231\n",
      "iter4,testing accuracy:0.9293\n",
      "iter5,testing accuracy:0.9325\n",
      "iter6,testing accuracy:0.9348\n",
      "iter7,testing accuracy:0.9386\n",
      "iter8,testing accuracy:0.9408\n",
      "iter9,testing accuracy:0.9418\n",
      "iter10,testing accuracy:0.9449\n",
      "iter11,testing accuracy:0.9466\n",
      "iter12,testing accuracy:0.9484\n",
      "iter13,testing accuracy:0.9493\n",
      "iter14,testing accuracy:0.9519\n",
      "iter15,testing accuracy:0.9527\n",
      "iter16,testing accuracy:0.9541\n",
      "iter17,testing accuracy:0.955\n",
      "iter18,testing accuracy:0.9549\n",
      "iter19,testing accuracy:0.9567\n",
      "iter20,testing accuracy:0.9572\n",
      "iter21,testing accuracy:0.9576\n",
      "iter22,testing accuracy:0.9588\n",
      "iter23,testing accuracy:0.9602\n",
      "iter24,testing accuracy:0.9597\n",
      "iter25,testing accuracy:0.9602\n",
      "iter26,testing accuracy:0.961\n",
      "iter27,testing accuracy:0.9617\n",
      "iter28,testing accuracy:0.9619\n",
      "iter29,testing accuracy:0.962\n",
      "iter30,testing accuracy:0.9631\n",
      "iter31,testing accuracy:0.9629\n",
      "iter32,testing accuracy:0.9637\n",
      "iter33,testing accuracy:0.9644\n",
      "iter34,testing accuracy:0.9645\n",
      "iter35,testing accuracy:0.9652\n",
      "iter36,testing accuracy:0.9657\n",
      "iter37,testing accuracy:0.9663\n",
      "iter38,testing accuracy:0.9665\n",
      "iter39,testing accuracy:0.9664\n"
     ]
    }
   ],
   "source": [
    "#载入数据集\n",
    "mnist=input_data.read_data_sets('MNIST_data',one_hot=True)\n",
    "\n",
    "#设定批次大小\n",
    "batch_size=128\n",
    "#计算一共有多少批次\n",
    "n_batch=mnist.train.num_examples//batch_size\n",
    "\n",
    "#定义placeholder\n",
    "x=tf.placeholder(tf.float32,[None,784])\n",
    "y=tf.placeholder(tf.float32,[None,10])\n",
    "\n",
    "#创建一个神经网络\n",
    "w=tf.Variable(tf.truncated_normal([784,500],stddev=0.1))\n",
    "b=tf.Variable(tf.zeros([500])+0.1)\n",
    "h1=tf.nn.tanh(tf.matmul(x,w)+b)\n",
    "\n",
    "\n",
    "w1=tf.Variable(tf.truncated_normal([500,500],stddev=0.1))\n",
    "b1=tf.Variable(tf.zeros([500])+0.1)\n",
    "h2=tf.nn.tanh(tf.matmul(h1,w1)+b1)\n",
    "\n",
    "\n",
    "w2=tf.Variable(tf.truncated_normal([500,100],stddev=0.1))\n",
    "b2=tf.Variable(tf.zeros([100])+0.1)\n",
    "h3=tf.nn.tanh(tf.matmul(h2,w2)+b2)\n",
    "\n",
    "\n",
    "w3=tf.Variable(tf.truncated_normal([100,10],stddev=0.1))\n",
    "b3=tf.Variable(tf.zeros([10])+0.1)\n",
    "\n",
    "prediction=tf.nn.softmax(tf.matmul(h3,w3)+b3)\n",
    "#定义loss函数\n",
    "loss=tf.reduce_mean(tf.square(y-prediction))\n",
    "\n",
    "\n",
    "train_step=tf.train.GradientDescentOptimizer(0.2).minimize(loss)\n",
    "\n",
    "#初始化\n",
    "init=tf.global_variables_initializer()\n",
    "\n",
    "#定义准确率\n",
    "#argmax找ont-hot编码里最大的那个数的索引，两个比较，相等就是预测对了，反之\n",
    "correct_prediction=tf.equal(tf.argmax(y,1),tf.argmax(prediction,1))\n",
    "#求准确率\n",
    "accuracy=tf.reduce_mean(tf.cast(correct_prediction,tf.float32))\n",
    "\n",
    "with tf.Session() as sess:\n",
    "    sess.run(init)\n",
    "    for epoch in range(40):\n",
    "        for batch in range(n_batch):\n",
    "            batch_xs,batch_ys=mnist.train.next_batch(batch_size)\n",
    "            sess.run(train_step,feed_dict={x:batch_xs,y:batch_ys})\n",
    "        \n",
    "        acc=sess.run(accuracy,feed_dict={x:mnist.test.images,y:mnist.test.labels})\n",
    "        \n",
    "        print('iter'+str(epoch)+',testing accuracy:'+str(acc))\n"
   ]
  },
  {
   "cell_type": "code",
   "execution_count": null,
   "metadata": {
    "collapsed": true
   },
   "outputs": [],
   "source": [
    "#提高准确率的思路：\n",
    "#改batch、初始化、激活函数、加隐藏层、代价函数、其他优化方式、学习率、迭代次数"
   ]
  },
  {
   "cell_type": "code",
   "execution_count": 22,
   "metadata": {},
   "outputs": [],
   "source": [
    "\n"
   ]
  },
  {
   "cell_type": "code",
   "execution_count": null,
   "metadata": {
    "collapsed": true
   },
   "outputs": [],
   "source": []
  }
 ],
 "metadata": {
  "kernelspec": {
   "display_name": "Python 3",
   "language": "python",
   "name": "python3"
  },
  "language_info": {
   "codemirror_mode": {
    "name": "ipython",
    "version": 3
   },
   "file_extension": ".py",
   "mimetype": "text/x-python",
   "name": "python",
   "nbconvert_exporter": "python",
   "pygments_lexer": "ipython3",
   "version": "3.6.3"
  }
 },
 "nbformat": 4,
 "nbformat_minor": 2
}
